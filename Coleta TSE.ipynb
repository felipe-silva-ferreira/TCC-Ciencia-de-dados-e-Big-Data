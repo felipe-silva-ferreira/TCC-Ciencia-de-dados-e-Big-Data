{
 "cells": [
  {
   "cell_type": "code",
   "execution_count": 1,
   "id": "eee2e114",
   "metadata": {},
   "outputs": [],
   "source": [
    "import glob\n",
    "import os\n",
    "import pandas as pd"
   ]
  },
  {
   "cell_type": "code",
   "execution_count": 2,
   "id": "ab10e83e",
   "metadata": {},
   "outputs": [
    {
     "name": "stderr",
     "output_type": "stream",
     "text": [
      "C:\\Users\\Felipe\\AppData\\Local\\Temp\\ipykernel_1644\\3515547718.py:14: DtypeWarning: Columns (61) have mixed types. Specify dtype option on import or set low_memory=False.\n",
      "  df_temporario = pd.read_csv(\n"
     ]
    },
    {
     "name": "stdout",
     "output_type": "stream",
     "text": [
      "consulta_cand_2016_BRASIL.csv tem 498391 linhas e 75 colunas.\n",
      "consulta_cand_2018_BRASIL.csv tem 29287 linhas e 63 colunas.\n",
      "consulta_cand_2020_BRASIL.csv tem 558632 linhas e 71 colunas.\n",
      "consulta_cand_2022_BRASIL.csv tem 29314 linhas e 75 colunas.\n"
     ]
    }
   ],
   "source": [
    "# Definindo o diretório de trabalho para a pasta onde estão os arquivos\n",
    "os.chdir(r'C:\\Users\\Felipe\\OneDrive - AGU\\Certificados - cursos\\Cursos - arquivos\\PUC Minas\\TCC\\Base de dados - TSE candidatos')\n",
    "\n",
    "# Definindo a extensão dos arquivos a serem lidos\n",
    "extensao = 'csv'\n",
    "\n",
    "# Usando o glob para obter uma lista de todos os arquivos .csv no diretório atual\n",
    "lista_arquivo = [i for i in glob.glob('*.{}'.format(extensao))]\n",
    "\n",
    "# Verificando cada arquivo\n",
    "for f in lista_arquivo:\n",
    "    try:\n",
    "        # Lendo o arquivo com os parâmetros apropriados e \n",
    "        df_temporario = pd.read_csv(\n",
    "            f, \n",
    "            encoding='latin1',\n",
    "            sep=';', \n",
    "            quotechar='\"',\n",
    "            on_bad_lines='skip',\n",
    "        )\n",
    "        # Exibindo informações\n",
    "        print(f\"{f} tem {df_temporario.shape[0]} linhas e {df_temporario.shape[1]} colunas.\")\n",
    "    except Exception as e:\n",
    "        # Se erro, mostra qual arquivo que causou e o erro\n",
    "        print(f\"Erro no arquivo {f}: {str(e)}\")"
   ]
  },
  {
   "cell_type": "code",
   "execution_count": 3,
   "id": "c53426a8",
   "metadata": {
    "scrolled": true
   },
   "outputs": [
    {
     "name": "stderr",
     "output_type": "stream",
     "text": [
      "C:\\Users\\Felipe\\AppData\\Local\\Temp\\ipykernel_1644\\238023818.py:4: DtypeWarning: Columns (61) have mixed types. Specify dtype option on import or set low_memory=False.\n",
      "  pd.read_csv(\n"
     ]
    },
    {
     "name": "stdout",
     "output_type": "stream",
     "text": [
      "Arquivos concatenados com sucesso!\n",
      "O arquivo tem 1115624 linhas e 75 colunas.\n",
      "Arquivo Parquet gerado com sucesso!\n"
     ]
    }
   ],
   "source": [
    "# Tentando concatenar todos os arquivos CSV em um único DataFrame\n",
    "try:\n",
    "    df_tse = pd.concat([\n",
    "        pd.read_csv(\n",
    "            f,\n",
    "            encoding='latin1',\n",
    "            sep=';',\n",
    "            quotechar='\"',\n",
    "            on_bad_lines='skip',\n",
    "        )\n",
    "        for f in lista_arquivo\n",
    "    ])\n",
    "    print(\"Arquivos concatenados com sucesso!\")\n",
    "    \n",
    "    # Convertendo o DataFrame para o formato Parquet e salvando no disco\n",
    "    df_tse.astype(str).to_parquet('df_tse.parquet', index=False)\n",
    "    print(f\"O arquivo tem {df_tse.shape[0]} linhas e {df_tse.shape[1]} colunas.\")\n",
    "    print(\"Arquivo Parquet gerado com sucesso!\")\n",
    "    \n",
    "except Exception as e:\n",
    "    # Em caso de erro, exibir a mensagem de erro\n",
    "    print(f\"Erro: {str(e)}\")"
   ]
  },
  {
   "cell_type": "code",
   "execution_count": 8,
   "id": "ae85e5ad",
   "metadata": {
    "scrolled": true
   },
   "outputs": [
    {
     "name": "stdout",
     "output_type": "stream",
     "text": [
      "<class 'pandas.core.frame.DataFrame'>\n",
      "Int64Index: 1115624 entries, 0 to 29313\n",
      "Data columns (total 75 columns):\n",
      " #   Column                         Non-Null Count    Dtype  \n",
      "---  ------                         --------------    -----  \n",
      " 0   DT_GERACAO                     1115624 non-null  object \n",
      " 1   HH_GERACAO                     1115624 non-null  object \n",
      " 2   ANO_ELEICAO                    1115624 non-null  int64  \n",
      " 3   CD_TIPO_ELEICAO                1115624 non-null  int64  \n",
      " 4   NM_TIPO_ELEICAO                1115624 non-null  object \n",
      " 5   NR_TURNO                       1115624 non-null  int64  \n",
      " 6   CD_ELEICAO                     1115624 non-null  int64  \n",
      " 7   DS_ELEICAO                     1115624 non-null  object \n",
      " 8   DT_ELEICAO                     1115624 non-null  object \n",
      " 9   TP_ABRANGENCIA                 1115624 non-null  object \n",
      " 10  SG_UF                          1115624 non-null  object \n",
      " 11  SG_UE                          1115624 non-null  object \n",
      " 12  NM_UE                          1115624 non-null  object \n",
      " 13  CD_CARGO                       1115624 non-null  int64  \n",
      " 14  DS_CARGO                       1115624 non-null  object \n",
      " 15  SQ_CANDIDATO                   1115624 non-null  int64  \n",
      " 16  NR_CANDIDATO                   1115624 non-null  int64  \n",
      " 17  NM_CANDIDATO                   1115624 non-null  object \n",
      " 18  NM_URNA_CANDIDATO              1115621 non-null  object \n",
      " 19  NM_SOCIAL_CANDIDATO            1115624 non-null  object \n",
      " 20  NR_CPF_CANDIDATO               1115624 non-null  object \n",
      " 21  NM_EMAIL                       1115624 non-null  object \n",
      " 22  CD_SITUACAO_CANDIDATURA        1115624 non-null  int64  \n",
      " 23  DS_SITUACAO_CANDIDATURA        1115624 non-null  object \n",
      " 24  CD_DETALHE_SITUACAO_CAND       1115624 non-null  int64  \n",
      " 25  DS_DETALHE_SITUACAO_CAND       1115624 non-null  object \n",
      " 26  TP_AGREMIACAO                  1115624 non-null  object \n",
      " 27  NR_PARTIDO                     1115624 non-null  int64  \n",
      " 28  SG_PARTIDO                     1115624 non-null  object \n",
      " 29  NM_PARTIDO                     1115624 non-null  object \n",
      " 30  NR_FEDERACAO                   1086337 non-null  float64\n",
      " 31  NM_FEDERACAO                   1086337 non-null  object \n",
      " 32  SG_FEDERACAO                   1086337 non-null  object \n",
      " 33  DS_COMPOSICAO_FEDERACAO        1086337 non-null  object \n",
      " 34  SQ_COLIGACAO                   1115624 non-null  int64  \n",
      " 35  NM_COLIGACAO                   1115624 non-null  object \n",
      " 36  DS_COMPOSICAO_COLIGACAO        1115624 non-null  object \n",
      " 37  CD_NACIONALIDADE               1115624 non-null  int64  \n",
      " 38  DS_NACIONALIDADE               1115624 non-null  object \n",
      " 39  SG_UF_NASCIMENTO               1115624 non-null  object \n",
      " 40  CD_MUNICIPIO_NASCIMENTO        1115624 non-null  int64  \n",
      " 41  NM_MUNICIPIO_NASCIMENTO        1115624 non-null  object \n",
      " 42  DT_NASCIMENTO                  1115099 non-null  object \n",
      " 43  NR_IDADE_DATA_POSSE            1115099 non-null  float64\n",
      " 44  NR_TITULO_ELEITORAL_CANDIDATO  1115624 non-null  int64  \n",
      " 45  CD_GENERO                      1115624 non-null  int64  \n",
      " 46  DS_GENERO                      1115624 non-null  object \n",
      " 47  CD_GRAU_INSTRUCAO              1115624 non-null  int64  \n",
      " 48  DS_GRAU_INSTRUCAO              1115624 non-null  object \n",
      " 49  CD_ESTADO_CIVIL                1115624 non-null  int64  \n",
      " 50  DS_ESTADO_CIVIL                1115624 non-null  object \n",
      " 51  CD_COR_RACA                    1115624 non-null  int64  \n",
      " 52  DS_COR_RACA                    1115624 non-null  object \n",
      " 53  CD_OCUPACAO                    1115624 non-null  int64  \n",
      " 54  DS_OCUPACAO                    1115624 non-null  object \n",
      " 55  VR_DESPESA_MAX_CAMPANHA        1115624 non-null  float64\n",
      " 56  CD_SIT_TOT_TURNO               1115624 non-null  int64  \n",
      " 57  DS_SIT_TOT_TURNO               1115624 non-null  object \n",
      " 58  ST_REELEICAO                   1115624 non-null  object \n",
      " 59  ST_DECLARAR_BENS               1115624 non-null  object \n",
      " 60  NR_PROTOCOLO_CANDIDATURA       1115624 non-null  int64  \n",
      " 61  NR_PROCESSO                    1115624 non-null  object \n",
      " 62  CD_SITUACAO_CANDIDATO_PLEITO   1115624 non-null  int64  \n",
      " 63  DS_SITUACAO_CANDIDATO_PLEITO   1115624 non-null  object \n",
      " 64  CD_SITUACAO_CANDIDATO_URNA     1115624 non-null  int64  \n",
      " 65  DS_SITUACAO_CANDIDATO_URNA     1115624 non-null  object \n",
      " 66  ST_CANDIDATO_INSERIDO_URNA     1115624 non-null  object \n",
      " 67  NM_TIPO_DESTINACAO_VOTOS       1086337 non-null  object \n",
      " 68  CD_SITUACAO_CANDIDATO_TOT      1086337 non-null  float64\n",
      " 69  DS_SITUACAO_CANDIDATO_TOT      1086337 non-null  object \n",
      " 70  ST_PREST_CONTAS                1086337 non-null  object \n",
      " 71  ST_SUBSTITUIDO                 527705 non-null   object \n",
      " 72  SQ_SUBSTITUIDO                 527705 non-null   float64\n",
      " 73  SQ_ORDEM_SUPLENCIA             527705 non-null   float64\n",
      " 74  DT_ACEITE_CANDIDATURA          527701 non-null   object \n",
      "dtypes: float64(6), int64(23), object(46)\n",
      "memory usage: 646.9+ MB\n"
     ]
    }
   ],
   "source": [
    "# Exibindo as informações do DataFrame concatenado\n",
    "df_tse.info()"
   ]
  },
  {
   "cell_type": "code",
   "execution_count": null,
   "id": "99937d3d",
   "metadata": {},
   "outputs": [],
   "source": []
  }
 ],
 "metadata": {
  "kernelspec": {
   "display_name": "Python 3 (ipykernel)",
   "language": "python",
   "name": "python3"
  },
  "language_info": {
   "codemirror_mode": {
    "name": "ipython",
    "version": 3
   },
   "file_extension": ".py",
   "mimetype": "text/x-python",
   "name": "python",
   "nbconvert_exporter": "python",
   "pygments_lexer": "ipython3",
   "version": "3.10.9"
  }
 },
 "nbformat": 4,
 "nbformat_minor": 5
}
